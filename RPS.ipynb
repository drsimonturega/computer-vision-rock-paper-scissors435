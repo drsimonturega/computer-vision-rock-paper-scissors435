{
 "cells": [
  {
   "cell_type": "markdown",
   "metadata": {},
   "source": [
    "# Computer Vision Rock Paper Scissors"
   ]
  },
  {
   "cell_type": "markdown",
   "metadata": {},
   "source": [
    "import numpy as np\n",
    "b = np.arange(6)\n",
    "b[1] = 5\n",
    "b\n",
    "array([0, 5, 2, 3, 4, 5])\n",
    "np.argmax(b)  # Only the first occurrence is returned."
   ]
  },
  {
   "cell_type": "code",
   "execution_count": 4,
   "metadata": {},
   "outputs": [
    {
     "data": {
      "text/plain": [
       "1"
      ]
     },
     "execution_count": 4,
     "metadata": {},
     "output_type": "execute_result"
    }
   ],
   "source": [
    "import numpy as np\n",
    "b = np.arange(6)\n",
    "b[1] = 5\n",
    "b\n",
    "np.argmax(b)  # Only the first occurrence is returned."
   ]
  },
  {
   "cell_type": "code",
   "execution_count": 1,
   "metadata": {},
   "outputs": [
    {
     "data": {
      "text/plain": [
       "1"
      ]
     },
     "execution_count": 1,
     "metadata": {},
     "output_type": "execute_result"
    }
   ],
   "source": [
    "import numpy as np\n",
    "rps_test = np.array([[2.0173509e-05,9.9834466e-01,1.4860204e-03,1.4911679e-04]])\n",
    "\n",
    "np.argmax(rps_test)  "
   ]
  },
  {
   "cell_type": "code",
   "execution_count": 4,
   "metadata": {},
   "outputs": [],
   "source": [
    "# assertions\n",
    "assert True"
   ]
  },
  {
   "cell_type": "code",
   "execution_count": 7,
   "metadata": {},
   "outputs": [],
   "source": [
    "# assertions\n",
    "age = 21 \n",
    "\n",
    "assert age > 18, \"you're underage\""
   ]
  },
  {
   "cell_type": "code",
   "execution_count": 11,
   "metadata": {},
   "outputs": [
    {
     "name": "stdout",
     "output_type": "stream",
     "text": [
      "Hello John\n"
     ]
    }
   ],
   "source": [
    "try:\n",
    "    name = input('Please enter your name, ')\n",
    "    assert name == 'John'\n",
    "    print('Hello John')\n",
    "except AssertionError:\n",
    "    print(\"You are not John\")"
   ]
  },
  {
   "cell_type": "code",
   "execution_count": 16,
   "metadata": {},
   "outputs": [
    {
     "name": "stdout",
     "output_type": "stream",
     "text": [
      "You are not John\n",
      "You are not old enough to vote\n"
     ]
    }
   ],
   "source": [
    "try:\n",
    "    name = input('Please enter your name, ')\n",
    "    age = input('Please enter your age, ')\n",
    "    age = int(age)\n",
    "    assert name == 'John' and age == 20\n",
    "    print('Hello John')\n",
    "except AssertionError:\n",
    "    print(\"You are not John\")\n",
    "\n",
    "try:\n",
    "    if age >= 18:\n",
    "        print('You are old enough to vote')\n",
    "    assert age >= 18\n",
    "except AssertionError:\n",
    "    print(\"You are not old enough to vote\")\n"
   ]
  },
  {
   "cell_type": "code",
   "execution_count": 11,
   "metadata": {},
   "outputs": [
    {
     "name": "stdout",
     "output_type": "stream",
     "text": [
      " Your rock is the same as  rock, IT'S A TIE\n"
     ]
    }
   ],
   "source": [
    "def get_winner(weapon_of_choice, weapon_of_computer):\n",
    "    if weapon_of_choice == \"rock\" and weapon_of_computer == \"sissor\":\n",
    "       print(f' Your {weapon_of_choice} beats {weapon_of_computer}, YOU WIN')\n",
    "    elif weapon_of_choice == \"rock\" and weapon_of_computer == \"paper\":\n",
    "        print(f' Your {weapon_of_choice} is beaten by  {weapon_of_computer}, YOU LOSE')\n",
    "    else:\n",
    "        if weapon_of_choice == \"rock\" and weapon_of_computer == \"rock\":\n",
    "            print(f' Your {weapon_of_choice} is the same as  {weapon_of_computer}, IT\\'S A TIE')\n",
    "    \n",
    "            \n",
    "            \n",
    "weapon_of_choice = \"rock\"\n",
    "weapon_of_computer = \"rock\"\n",
    "\n",
    "\n",
    "get_winner(weapon_of_choice, weapon_of_computer)"
   ]
  },
  {
   "cell_type": "code",
   "execution_count": 38,
   "metadata": {},
   "outputs": [
    {
     "name": "stdout",
     "output_type": "stream",
     "text": [
      " Your paper beats rock, YOU WIN\n"
     ]
    }
   ],
   "source": [
    "import random\n",
    "\n",
    "class man_rps():\n",
    "\n",
    "    def __init__(self):\n",
    "        \"\"\"Inintailises the class varibles bound to an instance of the class\"\"\"\n",
    "        weapon_list = [\"rock\",\"paper\",\"sissors\"]\n",
    "        self.weapon_list = weapon_list\n",
    "        weapon_of_choice = str()\n",
    "        weapon_of_computer = str()\n",
    "        self.weapon_of_computer = weapon_of_computer\n",
    "        self.weapon_of_choice = weapon_of_choice\n",
    "       \n",
    "\n",
    "\n",
    "\n",
    "def get_computer_choice(self, weapon_list):\n",
    "    self.weapon_of_computer = random.choice(self.weapon_list)\n",
    "    #print(f'Computer chosse {self.weapon_of_computer}')\n",
    "    return self.weapon_of_computer\n",
    "\n",
    "def get_user_choice(self, weapon_list):\n",
    "    while True:\n",
    "        self.weapon_of_choice = input('Choose rock, paper or sissors, ')\n",
    "        self.weapon_of_choice = self.weapon_of_choice.lower()\n",
    "        if self.weapon_of_choice in weapon_list:\n",
    "            break\n",
    "        else:\n",
    "            print('Try again!')\n",
    "            continue\n",
    "    return self.weapon_of_choice\n",
    "\n",
    "def get_winner(self, weapon_of_choice, weapon_of_computer):\n",
    "    # checks choices if user choice is \"rock\"\n",
    "    #print(f\"check 1 computer {self.weapon_of_computer} you {self.weapon_of_choice}\")\n",
    "    if self.weapon_of_choice == \"rock\" and self.weapon_of_computer == \"sissors\":\n",
    "       print(f' Your {self.weapon_of_choice} beats {self.weapon_of_computer}, YOU WIN')\n",
    "    elif self.weapon_of_choice == \"rock\" and self.weapon_of_computer == \"paper\":\n",
    "        print(f' Your {self.weapon_of_choice} is beaten by  {self.weapon_of_computer}, YOU LOSE')\n",
    "    else:\n",
    "        if self.weapon_of_choice == \"rock\" and self.weapon_of_computer == \"rock\":\n",
    "            print(f' Your {self.weapon_of_choice} is the same as  {self.weapon_of_computer}, IT\\'S A TIE')\n",
    "\n",
    "    # checks choices if user choice is \"sissors\" \n",
    "    #print(f\"check 2 computer {self.weapon_of_computer} you {self.weapon_of_choice}\")         \n",
    "    if self.weapon_of_choice == \"sissors\" and self.weapon_of_computer == \"paper\":\n",
    "       print(f' Your {self.weapon_of_choice} beats {self.weapon_of_computer}, YOU WIN')\n",
    "    elif self.weapon_of_choice == \"sissors\" and self.weapon_of_computer == \"rock\":\n",
    "        print(f' Your {self.weapon_of_choice} is beaten by  {self.weapon_of_computer}, YOU LOSE')\n",
    "    else:\n",
    "        if self.weapon_of_choice == \"sissors\" and self.weapon_of_computer == \"sissor\":\n",
    "            print(f' Your {self.weapon_of_choice} is the same as  {self.weapon_of_computer}, IT\\'S A TIE')\n",
    "    \n",
    "    # checks choices if user choice is \"paper\"\n",
    "    #print(f\"check 3 computer {self.weapon_of_computer} you {self.weapon_of_choice}\")\n",
    "    if self.weapon_of_choice == \"paper\" and self.weapon_of_computer == \"rock\":\n",
    "       print(f' Your {self.weapon_of_choice} beats {self.weapon_of_computer}, YOU WIN')\n",
    "    elif self.weapon_of_choice == \"paper\" and self.weapon_of_computer == \"sissors\":\n",
    "        print(f' Your {self.weapon_of_choice} is beaten by  {self.weapon_of_computer}, YOU LOSE')\n",
    "    else:\n",
    "        if self.weapon_of_choice == \"paper\" and self.weapon_of_computer == \"paper\":\n",
    "            print(f' Your {self.weapon_of_choice} is the same as  {self.weapon_of_computer}, IT\\'S A TIE')\n",
    "\n",
    "def play():\n",
    "    \n",
    "    game = man_rps()\n",
    "\n",
    "    get_computer_choice(game, weapon_list)\n",
    "    #print(f'computer {weapon_of_computer}')\n",
    "\n",
    "    get_user_choice(game, weapon_list)\n",
    "    #print(f'computer {weapon_of_choice}')\n",
    "\n",
    "    get_winner(game, weapon_of_choice, weapon_of_computer)\n",
    "\n",
    "play()"
   ]
  },
  {
   "cell_type": "code",
   "execution_count": null,
   "metadata": {},
   "outputs": [],
   "source": []
  },
  {
   "cell_type": "code",
   "execution_count": null,
   "metadata": {},
   "outputs": [],
   "source": []
  }
 ],
 "metadata": {
  "kernelspec": {
   "display_name": "Python 3",
   "language": "python",
   "name": "python3"
  },
  "language_info": {
   "codemirror_mode": {
    "name": "ipython",
    "version": 3
   },
   "file_extension": ".py",
   "mimetype": "text/x-python",
   "name": "python",
   "nbconvert_exporter": "python",
   "pygments_lexer": "ipython3",
   "version": "3.6.8"
  }
 },
 "nbformat": 4,
 "nbformat_minor": 2
}
